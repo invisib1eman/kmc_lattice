{
 "cells": [
  {
   "cell_type": "code",
   "execution_count": 2,
   "id": "d5566bb4",
   "metadata": {},
   "outputs": [],
   "source": [
    "import numpy as np\n",
    "import pandas as pd"
   ]
  },
  {
   "cell_type": "code",
   "execution_count": 54,
   "id": "d052ec50",
   "metadata": {},
   "outputs": [],
   "source": [
    "df=pd.read_csv(\"N1000_L100_E_dis8.0_S1.0000_T100000.000_B0.000MC.log\",sep='\\s+')    \n",
    "        \n"
   ]
  },
  {
   "cell_type": "code",
   "execution_count": 55,
   "id": "eb9d2ec3",
   "metadata": {},
   "outputs": [
    {
     "data": {
      "text/html": [
       "<div>\n",
       "<style scoped>\n",
       "    .dataframe tbody tr th:only-of-type {\n",
       "        vertical-align: middle;\n",
       "    }\n",
       "\n",
       "    .dataframe tbody tr th {\n",
       "        vertical-align: top;\n",
       "    }\n",
       "\n",
       "    .dataframe thead th {\n",
       "        text-align: right;\n",
       "    }\n",
       "</style>\n",
       "<table border=\"1\" class=\"dataframe\">\n",
       "  <thead>\n",
       "    <tr style=\"text-align: right;\">\n",
       "      <th></th>\n",
       "      <th>sweep</th>\n",
       "      <th>time</th>\n",
       "      <th>energy</th>\n",
       "      <th>accept</th>\n",
       "      <th>N_aggregate</th>\n",
       "      <th>bond_forming</th>\n",
       "      <th>bond_breaking</th>\n",
       "    </tr>\n",
       "  </thead>\n",
       "  <tbody>\n",
       "    <tr>\n",
       "      <th>0</th>\n",
       "      <td>0</td>\n",
       "      <td>0.000</td>\n",
       "      <td>0</td>\n",
       "      <td>0.000</td>\n",
       "      <td>1000</td>\n",
       "      <td>0</td>\n",
       "      <td>0</td>\n",
       "    </tr>\n",
       "    <tr>\n",
       "      <th>1</th>\n",
       "      <td>1432</td>\n",
       "      <td>999.934</td>\n",
       "      <td>0</td>\n",
       "      <td>765.459</td>\n",
       "      <td>858</td>\n",
       "      <td>142</td>\n",
       "      <td>0</td>\n",
       "    </tr>\n",
       "    <tr>\n",
       "      <th>2</th>\n",
       "      <td>2864</td>\n",
       "      <td>1999.870</td>\n",
       "      <td>0</td>\n",
       "      <td>684.556</td>\n",
       "      <td>775</td>\n",
       "      <td>83</td>\n",
       "      <td>0</td>\n",
       "    </tr>\n",
       "    <tr>\n",
       "      <th>3</th>\n",
       "      <td>4296</td>\n",
       "      <td>2999.800</td>\n",
       "      <td>0</td>\n",
       "      <td>627.413</td>\n",
       "      <td>727</td>\n",
       "      <td>48</td>\n",
       "      <td>0</td>\n",
       "    </tr>\n",
       "    <tr>\n",
       "      <th>4</th>\n",
       "      <td>5728</td>\n",
       "      <td>3999.740</td>\n",
       "      <td>0</td>\n",
       "      <td>591.230</td>\n",
       "      <td>693</td>\n",
       "      <td>34</td>\n",
       "      <td>0</td>\n",
       "    </tr>\n",
       "    <tr>\n",
       "      <th>...</th>\n",
       "      <td>...</td>\n",
       "      <td>...</td>\n",
       "      <td>...</td>\n",
       "      <td>...</td>\n",
       "      <td>...</td>\n",
       "      <td>...</td>\n",
       "      <td>...</td>\n",
       "    </tr>\n",
       "    <tr>\n",
       "      <th>96</th>\n",
       "      <td>137472</td>\n",
       "      <td>95993.700</td>\n",
       "      <td>0</td>\n",
       "      <td>424.501</td>\n",
       "      <td>516</td>\n",
       "      <td>0</td>\n",
       "      <td>0</td>\n",
       "    </tr>\n",
       "    <tr>\n",
       "      <th>97</th>\n",
       "      <td>138904</td>\n",
       "      <td>96993.600</td>\n",
       "      <td>0</td>\n",
       "      <td>418.188</td>\n",
       "      <td>515</td>\n",
       "      <td>1</td>\n",
       "      <td>0</td>\n",
       "    </tr>\n",
       "    <tr>\n",
       "      <th>98</th>\n",
       "      <td>140336</td>\n",
       "      <td>97993.600</td>\n",
       "      <td>0</td>\n",
       "      <td>419.594</td>\n",
       "      <td>515</td>\n",
       "      <td>0</td>\n",
       "      <td>0</td>\n",
       "    </tr>\n",
       "    <tr>\n",
       "      <th>99</th>\n",
       "      <td>141768</td>\n",
       "      <td>98993.500</td>\n",
       "      <td>0</td>\n",
       "      <td>426.676</td>\n",
       "      <td>515</td>\n",
       "      <td>0</td>\n",
       "      <td>0</td>\n",
       "    </tr>\n",
       "    <tr>\n",
       "      <th>100</th>\n",
       "      <td>143200</td>\n",
       "      <td>99993.400</td>\n",
       "      <td>0</td>\n",
       "      <td>424.110</td>\n",
       "      <td>515</td>\n",
       "      <td>0</td>\n",
       "      <td>0</td>\n",
       "    </tr>\n",
       "  </tbody>\n",
       "</table>\n",
       "<p>101 rows × 7 columns</p>\n",
       "</div>"
      ],
      "text/plain": [
       "      sweep       time  energy   accept  N_aggregate  bond_forming  \\\n",
       "0         0      0.000       0    0.000         1000             0   \n",
       "1      1432    999.934       0  765.459          858           142   \n",
       "2      2864   1999.870       0  684.556          775            83   \n",
       "3      4296   2999.800       0  627.413          727            48   \n",
       "4      5728   3999.740       0  591.230          693            34   \n",
       "..      ...        ...     ...      ...          ...           ...   \n",
       "96   137472  95993.700       0  424.501          516             0   \n",
       "97   138904  96993.600       0  418.188          515             1   \n",
       "98   140336  97993.600       0  419.594          515             0   \n",
       "99   141768  98993.500       0  426.676          515             0   \n",
       "100  143200  99993.400       0  424.110          515             0   \n",
       "\n",
       "     bond_breaking  \n",
       "0                0  \n",
       "1                0  \n",
       "2                0  \n",
       "3                0  \n",
       "4                0  \n",
       "..             ...  \n",
       "96               0  \n",
       "97               0  \n",
       "98               0  \n",
       "99               0  \n",
       "100              0  \n",
       "\n",
       "[101 rows x 7 columns]"
      ]
     },
     "execution_count": 55,
     "metadata": {},
     "output_type": "execute_result"
    }
   ],
   "source": [
    "df"
   ]
  },
  {
   "cell_type": "code",
   "execution_count": 56,
   "id": "63bfd023",
   "metadata": {},
   "outputs": [],
   "source": [
    "Nag=df[\"N_aggregate\"].to_numpy()\n"
   ]
  },
  {
   "cell_type": "code",
   "execution_count": 57,
   "id": "052a47e8",
   "metadata": {},
   "outputs": [],
   "source": [
    "time=df[\"time\"].to_numpy()"
   ]
  },
  {
   "cell_type": "code",
   "execution_count": 58,
   "id": "9e91eea9",
   "metadata": {},
   "outputs": [
    {
     "data": {
      "text/plain": [
       "array([1000,  716,  550,  454,  386,  340,  298,  270,  250,  232,  216,\n",
       "        198,  190,  180,  150,  142,  128,  120,  114,  114,  112,  104,\n",
       "        104,   98,   92,   90,   84,   84,   80,   78,   76,   74,   74,\n",
       "         72,   72,   66,   66,   66,   62,   60,   60,   60,   60,   60,\n",
       "         60,   58,   58,   58,   58,   58,   56,   54,   54,   54,   50,\n",
       "         50,   50,   48,   48,   46,   46,   42,   42,   42,   42,   42,\n",
       "         42,   40,   38,   38,   36,   36,   36,   36,   36,   36,   36,\n",
       "         36,   36,   36,   36,   36,   36,   36,   32,   32,   32,   32,\n",
       "         32,   32,   32,   32,   32,   32,   32,   32,   32,   30,   30,\n",
       "         30,   30])"
      ]
     },
     "execution_count": 58,
     "metadata": {},
     "output_type": "execute_result"
    }
   ],
   "source": [
    "def Ag_to_monomer(Nag):\n",
    "    return 1000-2*(1000-Nag)\n",
    "vfunc=np.vectorize(Ag_to_monomer)\n",
    "Nmonomer=vfunc(Nag)\n",
    "Nmonomer"
   ]
  },
  {
   "cell_type": "code",
   "execution_count": 59,
   "id": "7bdbb9a1",
   "metadata": {},
   "outputs": [
    {
     "data": {
      "application/vnd.plotly.v1+json": {
       "config": {
        "plotlyServerURL": "https://plot.ly"
       },
       "data": [
        {
         "type": "scatter",
         "x": [
          0,
          999.934,
          1999.87,
          2999.8,
          3999.74,
          4999.67,
          5999.61,
          6999.54,
          7999.47,
          8999.41,
          9999.34,
          10999.3,
          11999.2,
          12999.1,
          13999.1,
          14999,
          15998.9,
          16998.9,
          17998.8,
          18998.7,
          19998.7,
          20998.6,
          21998.6,
          22998.5,
          23998.4,
          24998.4,
          25998.3,
          26998.2,
          27998.2,
          28998.1,
          29998,
          30998,
          31997.9,
          32997.8,
          33997.8,
          34997.7,
          35997.6,
          36997.6,
          37997.5,
          38997.4,
          39997.4,
          40997.3,
          41997.2,
          42997.2,
          43997.1,
          44997,
          45997,
          46996.9,
          47996.8,
          48996.8,
          49996.7,
          50996.6,
          51996.6,
          52996.5,
          53996.4,
          54996.4,
          55996.3,
          56996.2,
          57996.2,
          58996.1,
          59996.1,
          60996,
          61995.9,
          62995.9,
          63995.8,
          64995.7,
          65995.7,
          66995.6,
          67995.5,
          68995.5,
          69995.4,
          70995.3,
          71995.3,
          72995.2,
          73995.1,
          74995.1,
          75995,
          76994.9,
          77994.9,
          78994.8,
          79994.7,
          80994.7,
          81994.6,
          82994.5,
          83994.5,
          84994.4,
          85994.3,
          86994.3,
          87994.2,
          88994.1,
          89994.1,
          90994,
          91993.9,
          92993.9,
          93993.8,
          94993.7,
          95993.7,
          96993.6,
          97993.6,
          98993.5,
          99993.4
         ],
         "y": [
          1000,
          716,
          550,
          454,
          386,
          340,
          298,
          270,
          250,
          232,
          216,
          198,
          190,
          180,
          150,
          142,
          128,
          120,
          114,
          114,
          112,
          104,
          104,
          98,
          92,
          90,
          84,
          84,
          80,
          78,
          76,
          74,
          74,
          72,
          72,
          66,
          66,
          66,
          62,
          60,
          60,
          60,
          60,
          60,
          60,
          58,
          58,
          58,
          58,
          58,
          56,
          54,
          54,
          54,
          50,
          50,
          50,
          48,
          48,
          46,
          46,
          42,
          42,
          42,
          42,
          42,
          42,
          40,
          38,
          38,
          36,
          36,
          36,
          36,
          36,
          36,
          36,
          36,
          36,
          36,
          36,
          36,
          36,
          36,
          32,
          32,
          32,
          32,
          32,
          32,
          32,
          32,
          32,
          32,
          32,
          32,
          32,
          30,
          30,
          30,
          30
         ]
        }
       ],
       "layout": {
        "template": {
         "data": {
          "bar": [
           {
            "error_x": {
             "color": "#2a3f5f"
            },
            "error_y": {
             "color": "#2a3f5f"
            },
            "marker": {
             "line": {
              "color": "#E5ECF6",
              "width": 0.5
             },
             "pattern": {
              "fillmode": "overlay",
              "size": 10,
              "solidity": 0.2
             }
            },
            "type": "bar"
           }
          ],
          "barpolar": [
           {
            "marker": {
             "line": {
              "color": "#E5ECF6",
              "width": 0.5
             },
             "pattern": {
              "fillmode": "overlay",
              "size": 10,
              "solidity": 0.2
             }
            },
            "type": "barpolar"
           }
          ],
          "carpet": [
           {
            "aaxis": {
             "endlinecolor": "#2a3f5f",
             "gridcolor": "white",
             "linecolor": "white",
             "minorgridcolor": "white",
             "startlinecolor": "#2a3f5f"
            },
            "baxis": {
             "endlinecolor": "#2a3f5f",
             "gridcolor": "white",
             "linecolor": "white",
             "minorgridcolor": "white",
             "startlinecolor": "#2a3f5f"
            },
            "type": "carpet"
           }
          ],
          "choropleth": [
           {
            "colorbar": {
             "outlinewidth": 0,
             "ticks": ""
            },
            "type": "choropleth"
           }
          ],
          "contour": [
           {
            "colorbar": {
             "outlinewidth": 0,
             "ticks": ""
            },
            "colorscale": [
             [
              0,
              "#0d0887"
             ],
             [
              0.1111111111111111,
              "#46039f"
             ],
             [
              0.2222222222222222,
              "#7201a8"
             ],
             [
              0.3333333333333333,
              "#9c179e"
             ],
             [
              0.4444444444444444,
              "#bd3786"
             ],
             [
              0.5555555555555556,
              "#d8576b"
             ],
             [
              0.6666666666666666,
              "#ed7953"
             ],
             [
              0.7777777777777778,
              "#fb9f3a"
             ],
             [
              0.8888888888888888,
              "#fdca26"
             ],
             [
              1,
              "#f0f921"
             ]
            ],
            "type": "contour"
           }
          ],
          "contourcarpet": [
           {
            "colorbar": {
             "outlinewidth": 0,
             "ticks": ""
            },
            "type": "contourcarpet"
           }
          ],
          "heatmap": [
           {
            "colorbar": {
             "outlinewidth": 0,
             "ticks": ""
            },
            "colorscale": [
             [
              0,
              "#0d0887"
             ],
             [
              0.1111111111111111,
              "#46039f"
             ],
             [
              0.2222222222222222,
              "#7201a8"
             ],
             [
              0.3333333333333333,
              "#9c179e"
             ],
             [
              0.4444444444444444,
              "#bd3786"
             ],
             [
              0.5555555555555556,
              "#d8576b"
             ],
             [
              0.6666666666666666,
              "#ed7953"
             ],
             [
              0.7777777777777778,
              "#fb9f3a"
             ],
             [
              0.8888888888888888,
              "#fdca26"
             ],
             [
              1,
              "#f0f921"
             ]
            ],
            "type": "heatmap"
           }
          ],
          "heatmapgl": [
           {
            "colorbar": {
             "outlinewidth": 0,
             "ticks": ""
            },
            "colorscale": [
             [
              0,
              "#0d0887"
             ],
             [
              0.1111111111111111,
              "#46039f"
             ],
             [
              0.2222222222222222,
              "#7201a8"
             ],
             [
              0.3333333333333333,
              "#9c179e"
             ],
             [
              0.4444444444444444,
              "#bd3786"
             ],
             [
              0.5555555555555556,
              "#d8576b"
             ],
             [
              0.6666666666666666,
              "#ed7953"
             ],
             [
              0.7777777777777778,
              "#fb9f3a"
             ],
             [
              0.8888888888888888,
              "#fdca26"
             ],
             [
              1,
              "#f0f921"
             ]
            ],
            "type": "heatmapgl"
           }
          ],
          "histogram": [
           {
            "marker": {
             "pattern": {
              "fillmode": "overlay",
              "size": 10,
              "solidity": 0.2
             }
            },
            "type": "histogram"
           }
          ],
          "histogram2d": [
           {
            "colorbar": {
             "outlinewidth": 0,
             "ticks": ""
            },
            "colorscale": [
             [
              0,
              "#0d0887"
             ],
             [
              0.1111111111111111,
              "#46039f"
             ],
             [
              0.2222222222222222,
              "#7201a8"
             ],
             [
              0.3333333333333333,
              "#9c179e"
             ],
             [
              0.4444444444444444,
              "#bd3786"
             ],
             [
              0.5555555555555556,
              "#d8576b"
             ],
             [
              0.6666666666666666,
              "#ed7953"
             ],
             [
              0.7777777777777778,
              "#fb9f3a"
             ],
             [
              0.8888888888888888,
              "#fdca26"
             ],
             [
              1,
              "#f0f921"
             ]
            ],
            "type": "histogram2d"
           }
          ],
          "histogram2dcontour": [
           {
            "colorbar": {
             "outlinewidth": 0,
             "ticks": ""
            },
            "colorscale": [
             [
              0,
              "#0d0887"
             ],
             [
              0.1111111111111111,
              "#46039f"
             ],
             [
              0.2222222222222222,
              "#7201a8"
             ],
             [
              0.3333333333333333,
              "#9c179e"
             ],
             [
              0.4444444444444444,
              "#bd3786"
             ],
             [
              0.5555555555555556,
              "#d8576b"
             ],
             [
              0.6666666666666666,
              "#ed7953"
             ],
             [
              0.7777777777777778,
              "#fb9f3a"
             ],
             [
              0.8888888888888888,
              "#fdca26"
             ],
             [
              1,
              "#f0f921"
             ]
            ],
            "type": "histogram2dcontour"
           }
          ],
          "mesh3d": [
           {
            "colorbar": {
             "outlinewidth": 0,
             "ticks": ""
            },
            "type": "mesh3d"
           }
          ],
          "parcoords": [
           {
            "line": {
             "colorbar": {
              "outlinewidth": 0,
              "ticks": ""
             }
            },
            "type": "parcoords"
           }
          ],
          "pie": [
           {
            "automargin": true,
            "type": "pie"
           }
          ],
          "scatter": [
           {
            "fillpattern": {
             "fillmode": "overlay",
             "size": 10,
             "solidity": 0.2
            },
            "type": "scatter"
           }
          ],
          "scatter3d": [
           {
            "line": {
             "colorbar": {
              "outlinewidth": 0,
              "ticks": ""
             }
            },
            "marker": {
             "colorbar": {
              "outlinewidth": 0,
              "ticks": ""
             }
            },
            "type": "scatter3d"
           }
          ],
          "scattercarpet": [
           {
            "marker": {
             "colorbar": {
              "outlinewidth": 0,
              "ticks": ""
             }
            },
            "type": "scattercarpet"
           }
          ],
          "scattergeo": [
           {
            "marker": {
             "colorbar": {
              "outlinewidth": 0,
              "ticks": ""
             }
            },
            "type": "scattergeo"
           }
          ],
          "scattergl": [
           {
            "marker": {
             "colorbar": {
              "outlinewidth": 0,
              "ticks": ""
             }
            },
            "type": "scattergl"
           }
          ],
          "scattermapbox": [
           {
            "marker": {
             "colorbar": {
              "outlinewidth": 0,
              "ticks": ""
             }
            },
            "type": "scattermapbox"
           }
          ],
          "scatterpolar": [
           {
            "marker": {
             "colorbar": {
              "outlinewidth": 0,
              "ticks": ""
             }
            },
            "type": "scatterpolar"
           }
          ],
          "scatterpolargl": [
           {
            "marker": {
             "colorbar": {
              "outlinewidth": 0,
              "ticks": ""
             }
            },
            "type": "scatterpolargl"
           }
          ],
          "scatterternary": [
           {
            "marker": {
             "colorbar": {
              "outlinewidth": 0,
              "ticks": ""
             }
            },
            "type": "scatterternary"
           }
          ],
          "surface": [
           {
            "colorbar": {
             "outlinewidth": 0,
             "ticks": ""
            },
            "colorscale": [
             [
              0,
              "#0d0887"
             ],
             [
              0.1111111111111111,
              "#46039f"
             ],
             [
              0.2222222222222222,
              "#7201a8"
             ],
             [
              0.3333333333333333,
              "#9c179e"
             ],
             [
              0.4444444444444444,
              "#bd3786"
             ],
             [
              0.5555555555555556,
              "#d8576b"
             ],
             [
              0.6666666666666666,
              "#ed7953"
             ],
             [
              0.7777777777777778,
              "#fb9f3a"
             ],
             [
              0.8888888888888888,
              "#fdca26"
             ],
             [
              1,
              "#f0f921"
             ]
            ],
            "type": "surface"
           }
          ],
          "table": [
           {
            "cells": {
             "fill": {
              "color": "#EBF0F8"
             },
             "line": {
              "color": "white"
             }
            },
            "header": {
             "fill": {
              "color": "#C8D4E3"
             },
             "line": {
              "color": "white"
             }
            },
            "type": "table"
           }
          ]
         },
         "layout": {
          "annotationdefaults": {
           "arrowcolor": "#2a3f5f",
           "arrowhead": 0,
           "arrowwidth": 1
          },
          "autotypenumbers": "strict",
          "coloraxis": {
           "colorbar": {
            "outlinewidth": 0,
            "ticks": ""
           }
          },
          "colorscale": {
           "diverging": [
            [
             0,
             "#8e0152"
            ],
            [
             0.1,
             "#c51b7d"
            ],
            [
             0.2,
             "#de77ae"
            ],
            [
             0.3,
             "#f1b6da"
            ],
            [
             0.4,
             "#fde0ef"
            ],
            [
             0.5,
             "#f7f7f7"
            ],
            [
             0.6,
             "#e6f5d0"
            ],
            [
             0.7,
             "#b8e186"
            ],
            [
             0.8,
             "#7fbc41"
            ],
            [
             0.9,
             "#4d9221"
            ],
            [
             1,
             "#276419"
            ]
           ],
           "sequential": [
            [
             0,
             "#0d0887"
            ],
            [
             0.1111111111111111,
             "#46039f"
            ],
            [
             0.2222222222222222,
             "#7201a8"
            ],
            [
             0.3333333333333333,
             "#9c179e"
            ],
            [
             0.4444444444444444,
             "#bd3786"
            ],
            [
             0.5555555555555556,
             "#d8576b"
            ],
            [
             0.6666666666666666,
             "#ed7953"
            ],
            [
             0.7777777777777778,
             "#fb9f3a"
            ],
            [
             0.8888888888888888,
             "#fdca26"
            ],
            [
             1,
             "#f0f921"
            ]
           ],
           "sequentialminus": [
            [
             0,
             "#0d0887"
            ],
            [
             0.1111111111111111,
             "#46039f"
            ],
            [
             0.2222222222222222,
             "#7201a8"
            ],
            [
             0.3333333333333333,
             "#9c179e"
            ],
            [
             0.4444444444444444,
             "#bd3786"
            ],
            [
             0.5555555555555556,
             "#d8576b"
            ],
            [
             0.6666666666666666,
             "#ed7953"
            ],
            [
             0.7777777777777778,
             "#fb9f3a"
            ],
            [
             0.8888888888888888,
             "#fdca26"
            ],
            [
             1,
             "#f0f921"
            ]
           ]
          },
          "colorway": [
           "#636efa",
           "#EF553B",
           "#00cc96",
           "#ab63fa",
           "#FFA15A",
           "#19d3f3",
           "#FF6692",
           "#B6E880",
           "#FF97FF",
           "#FECB52"
          ],
          "font": {
           "color": "#2a3f5f"
          },
          "geo": {
           "bgcolor": "white",
           "lakecolor": "white",
           "landcolor": "#E5ECF6",
           "showlakes": true,
           "showland": true,
           "subunitcolor": "white"
          },
          "hoverlabel": {
           "align": "left"
          },
          "hovermode": "closest",
          "mapbox": {
           "style": "light"
          },
          "paper_bgcolor": "white",
          "plot_bgcolor": "#E5ECF6",
          "polar": {
           "angularaxis": {
            "gridcolor": "white",
            "linecolor": "white",
            "ticks": ""
           },
           "bgcolor": "#E5ECF6",
           "radialaxis": {
            "gridcolor": "white",
            "linecolor": "white",
            "ticks": ""
           }
          },
          "scene": {
           "xaxis": {
            "backgroundcolor": "#E5ECF6",
            "gridcolor": "white",
            "gridwidth": 2,
            "linecolor": "white",
            "showbackground": true,
            "ticks": "",
            "zerolinecolor": "white"
           },
           "yaxis": {
            "backgroundcolor": "#E5ECF6",
            "gridcolor": "white",
            "gridwidth": 2,
            "linecolor": "white",
            "showbackground": true,
            "ticks": "",
            "zerolinecolor": "white"
           },
           "zaxis": {
            "backgroundcolor": "#E5ECF6",
            "gridcolor": "white",
            "gridwidth": 2,
            "linecolor": "white",
            "showbackground": true,
            "ticks": "",
            "zerolinecolor": "white"
           }
          },
          "shapedefaults": {
           "line": {
            "color": "#2a3f5f"
           }
          },
          "ternary": {
           "aaxis": {
            "gridcolor": "white",
            "linecolor": "white",
            "ticks": ""
           },
           "baxis": {
            "gridcolor": "white",
            "linecolor": "white",
            "ticks": ""
           },
           "bgcolor": "#E5ECF6",
           "caxis": {
            "gridcolor": "white",
            "linecolor": "white",
            "ticks": ""
           }
          },
          "title": {
           "x": 0.05
          },
          "xaxis": {
           "automargin": true,
           "gridcolor": "white",
           "linecolor": "white",
           "ticks": "",
           "title": {
            "standoff": 15
           },
           "zerolinecolor": "white",
           "zerolinewidth": 2
          },
          "yaxis": {
           "automargin": true,
           "gridcolor": "white",
           "linecolor": "white",
           "ticks": "",
           "title": {
            "standoff": 15
           },
           "zerolinecolor": "white",
           "zerolinewidth": 2
          }
         }
        }
       }
      }
     },
     "metadata": {},
     "output_type": "display_data"
    }
   ],
   "source": [
    "import plotly.graph_objects as go\n",
    "fig=go.Figure()\n",
    "fig.add_trace(go.Scatter(x=time,y=Nmonomer))"
   ]
  },
  {
   "cell_type": "code",
   "execution_count": 60,
   "id": "dc04616a",
   "metadata": {},
   "outputs": [
    {
     "data": {
      "text/plain": [
       "array([0.        , 0.00039665, 0.00081818, 0.00120264, 0.00159067,\n",
       "       0.00194118, 0.0023557 , 0.0027037 , 0.003     , 0.00331034,\n",
       "       0.00362963, 0.00405051, 0.00426316, 0.00455556, 0.00566667,\n",
       "       0.00604225, 0.0068125 , 0.00733333, 0.00777193, 0.00777193,\n",
       "       0.00792857, 0.00861538, 0.00861538, 0.00920408, 0.00986957,\n",
       "       0.01011111, 0.01090476, 0.01090476, 0.0115    , 0.01182051,\n",
       "       0.01215789, 0.01251351, 0.01251351, 0.01288889, 0.01288889,\n",
       "       0.01415152, 0.01415152, 0.01415152, 0.01512903, 0.01566667,\n",
       "       0.01566667, 0.01566667, 0.01566667, 0.01566667, 0.01566667,\n",
       "       0.01624138, 0.01624138, 0.01624138, 0.01624138, 0.01624138,\n",
       "       0.01685714, 0.01751852, 0.01751852, 0.01751852, 0.019     ,\n",
       "       0.019     , 0.019     , 0.01983333, 0.01983333, 0.02073913,\n",
       "       0.02073913, 0.02280952, 0.02280952, 0.02280952, 0.02280952,\n",
       "       0.02280952, 0.02280952, 0.024     , 0.02531579, 0.02531579,\n",
       "       0.02677778, 0.02677778, 0.02677778, 0.02677778, 0.02677778,\n",
       "       0.02677778, 0.02677778, 0.02677778, 0.02677778, 0.02677778,\n",
       "       0.02677778, 0.02677778, 0.02677778, 0.02677778, 0.03025   ,\n",
       "       0.03025   , 0.03025   , 0.03025   , 0.03025   , 0.03025   ,\n",
       "       0.03025   , 0.03025   , 0.03025   , 0.03025   , 0.03025   ,\n",
       "       0.03025   , 0.03025   , 0.03233333, 0.03233333, 0.03233333,\n",
       "       0.03233333])"
      ]
     },
     "execution_count": 60,
     "metadata": {},
     "output_type": "execute_result"
    }
   ],
   "source": [
    "def transform(x):\n",
    "    return 1/x-1/1000\n",
    "vtransform=np.vectorize(transform)\n",
    "transform_x=vtransform(Nmonomer)\n",
    "transform_x"
   ]
  },
  {
   "cell_type": "code",
   "execution_count": 61,
   "id": "1ab69384",
   "metadata": {},
   "outputs": [],
   "source": [
    "from statistics import linear_regression\n",
    "slope,intercept=linear_regression(transform_x,time,proportional=True)"
   ]
  },
  {
   "cell_type": "code",
   "execution_count": 62,
   "id": "b2985d79",
   "metadata": {},
   "outputs": [
    {
     "data": {
      "text/plain": [
       "2872242.395309718"
      ]
     },
     "execution_count": 62,
     "metadata": {},
     "output_type": "execute_result"
    }
   ],
   "source": [
    "slope"
   ]
  },
  {
   "cell_type": "code",
   "execution_count": 63,
   "id": "284a04c8",
   "metadata": {},
   "outputs": [
    {
     "data": {
      "image/png": "[encoded data removed]",
      "text/plain": [
       "<Figure size 640x480 with 1 Axes>"
      ]
     },
     "metadata": {},
     "output_type": "display_data"
    }
   ],
   "source": [
    "import matplotlib.pyplot as plt\n",
    "plt.plot(time,Nmonomer,'o',label=\"original data\")\n",
    "plt.plot(time,1/(time/slope+1/1000),'r',label=\"fitted line\")\n",
    "plt.legend()\n",
    "plt.show()"
   ]
  },
  {
   "cell_type": "code",
   "execution_count": 64,
   "id": "7ca65794",
   "metadata": {},
   "outputs": [
    {
     "data": {
      "text/plain": [
       "0.0024787521766663585"
      ]
     },
     "execution_count": 64,
     "metadata": {},
     "output_type": "execute_result"
    }
   ],
   "source": [
    "np.exp(-6)"
   ]
  },
  {
   "cell_type": "code",
   "execution_count": null,
   "id": "3b160c21",
   "metadata": {},
   "outputs": [],
   "source": []
  },
  {
   "cell_type": "code",
   "execution_count": 109,
   "id": "302c1ebe",
   "metadata": {},
   "outputs": [
    {
     "name": "stdout",
     "output_type": "stream",
     "text": [
      "break11\n",
      "break11\n",
      "break16\n",
      "break16\n",
      "break37\n",
      "break37\n",
      "break45\n",
      "break45\n",
      "break86\n",
      "break86\n",
      "break91\n",
      "break91\n"
     ]
    }
   ],
   "source": [
    "for i in range(0,len(bond_traj)-1):\n",
    "    conf1=bond_traj[i][:,0:4]\n",
    "    conf2=bond_traj[i+1][:,0:4]\n",
    "    for j in range(0,conf1.shape[0]):\n",
    "        if np.where((conf2==tuple(conf1[j])).all(axis=1))[0].shape[0]==0:\n",
    "            print(\"break%d\"%(i))"
   ]
  },
  {
   "cell_type": "code",
   "execution_count": 97,
   "id": "cf519766",
   "metadata": {},
   "outputs": [],
   "source": [
    "conf1=bond_traj[1][:,0:4]\n",
    "conf2=bond_traj[2][:,0:4]\n"
   ]
  },
  {
   "cell_type": "code",
   "execution_count": 98,
   "id": "6f950b2a",
   "metadata": {},
   "outputs": [
    {
     "data": {
      "text/plain": [
       "(12.0, 17.0, 3.0, 5.0)"
      ]
     },
     "execution_count": 98,
     "metadata": {},
     "output_type": "execute_result"
    }
   ],
   "source": [
    "tuple(conf1[1])"
   ]
  },
  {
   "cell_type": "code",
   "execution_count": 100,
   "id": "bc5877d4",
   "metadata": {},
   "outputs": [
    {
     "ename": "AttributeError",
     "evalue": "'tuple' object has no attribute 'all'",
     "output_type": "error",
     "traceback": [
      "\u001b[0;31m---------------------------------------------------------------------------\u001b[0m",
      "\u001b[0;31mAttributeError\u001b[0m                            Traceback (most recent call last)",
      "Cell \u001b[0;32mIn[100], line 1\u001b[0m\n\u001b[0;32m----> 1\u001b[0m np\u001b[38;5;241m.\u001b[39mwhere((conf2\u001b[38;5;241m==\u001b[39m\u001b[38;5;28;43mtuple\u001b[39;49m\u001b[43m(\u001b[49m\u001b[43mconf1\u001b[49m\u001b[43m[\u001b[49m\u001b[38;5;241;43m1\u001b[39;49m\u001b[43m]\u001b[49m\u001b[43m)\u001b[49m\u001b[38;5;241;43m.\u001b[39;49m\u001b[43mall\u001b[49m(axis\u001b[38;5;241m=\u001b[39m\u001b[38;5;241m1\u001b[39m)))[\u001b[38;5;241m0\u001b[39m]\u001b[38;5;241m.\u001b[39mshape[\u001b[38;5;241m0\u001b[39m]\n",
      "\u001b[0;31mAttributeError\u001b[0m: 'tuple' object has no attribute 'all'"
     ]
    }
   ],
   "source": [
    "np.where((conf2==tuple(conf1[1]).all(axis=1)))[0].shape[0]"
   ]
  },
  {
   "cell_type": "code",
   "execution_count": 78,
   "id": "a550ede5",
   "metadata": {},
   "outputs": [
    {
     "data": {
      "text/plain": [
       "True"
      ]
     },
     "execution_count": 78,
     "metadata": {},
     "output_type": "execute_result"
    }
   ],
   "source": [
    "np.any([1,1,1],where=2)"
   ]
  },
  {
   "cell_type": "code",
   "execution_count": 91,
   "id": "5ae16a9b",
   "metadata": {},
   "outputs": [
    {
     "data": {
      "text/plain": [
       "True"
      ]
     },
     "execution_count": 91,
     "metadata": {},
     "output_type": "execute_result"
    }
   ],
   "source": [
    "np.where((bond_traj[1][:,0:4]==(9,37,4,4)).all(axis=1))[0].shape[0]==0"
   ]
  },
  {
   "cell_type": "code",
   "execution_count": 82,
   "id": "349ea012",
   "metadata": {},
   "outputs": [],
   "source": [
    "vals = np.array([[0, 0],\n",
    "                 [1, 0],\n",
    "                 [2, 0],\n",
    "                 [0, 1],\n",
    "                 [1, 1],\n",
    "                 [2, 1],\n",
    "                 [0, 2],\n",
    "                 [1, 2],\n",
    "                 [2, 2],\n",
    "                 [0, 3],\n",
    "                 [1, 3],\n",
    "                 [2, 3],\n",
    "                 [0, 0],\n",
    "                 [1, 0],\n",
    "                 [2, 0],\n",
    "                 [0, 1],\n",
    "                 [1, 1],\n",
    "                 [2, 1],\n",
    "                 [0, 2],\n",
    "                 [1, 2],\n",
    "                 [2, 2],\n",
    "                 [0, 3],\n",
    "                 [1, 3],\n",
    "                 [2, 3]])"
   ]
  },
  {
   "cell_type": "code",
   "execution_count": 83,
   "id": "499a0264",
   "metadata": {},
   "outputs": [
    {
     "data": {
      "text/plain": [
       "(array([ 3, 15]),)"
      ]
     },
     "execution_count": 83,
     "metadata": {},
     "output_type": "execute_result"
    }
   ],
   "source": [
    "np.where((vals == (0, 1)).all(axis=1))"
   ]
  },
  {
   "cell_type": "code",
   "execution_count": 115,
   "id": "3b118ec1",
   "metadata": {},
   "outputs": [
    {
     "data": {
      "text/plain": [
       "(138, 5)"
      ]
     },
     "execution_count": 115,
     "metadata": {},
     "output_type": "execute_result"
    }
   ],
   "source": [
    "bond_traj[-1].shape"
   ]
  },
  {
   "cell_type": "code",
   "execution_count": null,
   "id": "04b47db9",
   "metadata": {},
   "outputs": [],
   "source": []
  }
 ],
 "metadata": {
  "kernelspec": {
   "display_name": "Python 3 (ipykernel)",
   "language": "python",
   "name": "python3"
  },
  "language_info": {
   "codemirror_mode": {
    "name": "ipython",
    "version": 3
   },
   "file_extension": ".py",
   "mimetype": "text/x-python",
   "name": "python",
   "nbconvert_exporter": "python",
   "pygments_lexer": "ipython3",
   "version": "3.11.3"
  }
 },
 "nbformat": 4,
 "nbformat_minor": 5
}
